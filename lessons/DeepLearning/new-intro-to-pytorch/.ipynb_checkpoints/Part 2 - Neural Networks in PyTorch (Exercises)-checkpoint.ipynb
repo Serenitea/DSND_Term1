{
 "cells": [
  {
   "cell_type": "markdown",
   "metadata": {},
   "source": [
    "# Neural networks with PyTorch\n",
    "\n",
    "Deep learning networks tend to be massive with dozens or hundreds of layers, that's where the term \"deep\" comes from. You can build one of these deep networks using only weight matrices as we did in the previous notebook, but in general it's very cumbersome and difficult to implement. PyTorch has a nice module `nn` that provides a nice way to efficiently build large neural networks."
   ]
  },
  {
   "cell_type": "code",
   "execution_count": 1,
   "metadata": {},
   "outputs": [],
   "source": [
    "# Import necessary packages\n",
    "\n",
    "%matplotlib inline\n",
    "%config InlineBackend.figure_format = 'retina'\n",
    "\n",
    "import numpy as np\n",
    "import torch\n",
    "\n",
    "import helper\n",
    "\n",
    "import matplotlib.pyplot as plt"
   ]
  },
  {
   "cell_type": "markdown",
   "metadata": {},
   "source": [
    "\n",
    "Now we're going to build a larger network that can solve a (formerly) difficult problem, identifying text in an image. Here we'll use the MNIST dataset which consists of greyscale handwritten digits. Each image is 28x28 pixels, you can see a sample below\n",
    "\n",
    "<img src='assets/mnist.png'>\n",
    "\n",
    "Our goal is to build a neural network that can take one of these images and predict the digit in the image.\n",
    "\n",
    "First up, we need to get our dataset. This is provided through the `torchvision` package. The code below will download the MNIST dataset, then create training and test datasets for us. Don't worry too much about the details here, you'll learn more about this later."
   ]
  },
  {
   "cell_type": "code",
   "execution_count": 2,
   "metadata": {},
   "outputs": [
    {
     "name": "stdout",
     "output_type": "stream",
     "text": [
      "Downloading http://yann.lecun.com/exdb/mnist/train-images-idx3-ubyte.gz to C:\\Users\\User/.pytorch/MNIST_data/MNIST\\raw\\train-images-idx3-ubyte.gz\n"
     ]
    },
    {
     "name": "stderr",
     "output_type": "stream",
     "text": [
      "9920512it [00:01, 6225037.28it/s]                             \n"
     ]
    },
    {
     "name": "stdout",
     "output_type": "stream",
     "text": [
      "Extracting C:\\Users\\User/.pytorch/MNIST_data/MNIST\\raw\\train-images-idx3-ubyte.gz to C:\\Users\\User/.pytorch/MNIST_data/MNIST\\raw\n",
      "Downloading http://yann.lecun.com/exdb/mnist/train-labels-idx1-ubyte.gz to C:\\Users\\User/.pytorch/MNIST_data/MNIST\\raw\\train-labels-idx1-ubyte.gz\n"
     ]
    },
    {
     "name": "stderr",
     "output_type": "stream",
     "text": [
      "32768it [00:00, 130693.47it/s]           \n"
     ]
    },
    {
     "name": "stdout",
     "output_type": "stream",
     "text": [
      "Extracting C:\\Users\\User/.pytorch/MNIST_data/MNIST\\raw\\train-labels-idx1-ubyte.gz to C:\\Users\\User/.pytorch/MNIST_data/MNIST\\raw\n",
      "Downloading http://yann.lecun.com/exdb/mnist/t10k-images-idx3-ubyte.gz to C:\\Users\\User/.pytorch/MNIST_data/MNIST\\raw\\t10k-images-idx3-ubyte.gz\n"
     ]
    },
    {
     "name": "stderr",
     "output_type": "stream",
     "text": [
      "1654784it [00:00, 2037330.39it/s]                            \n"
     ]
    },
    {
     "name": "stdout",
     "output_type": "stream",
     "text": [
      "Extracting C:\\Users\\User/.pytorch/MNIST_data/MNIST\\raw\\t10k-images-idx3-ubyte.gz to C:\\Users\\User/.pytorch/MNIST_data/MNIST\\raw\n",
      "Downloading http://yann.lecun.com/exdb/mnist/t10k-labels-idx1-ubyte.gz to C:\\Users\\User/.pytorch/MNIST_data/MNIST\\raw\\t10k-labels-idx1-ubyte.gz\n"
     ]
    },
    {
     "name": "stderr",
     "output_type": "stream",
     "text": [
      "8192it [00:00, 46995.00it/s]            \n"
     ]
    },
    {
     "name": "stdout",
     "output_type": "stream",
     "text": [
      "Extracting C:\\Users\\User/.pytorch/MNIST_data/MNIST\\raw\\t10k-labels-idx1-ubyte.gz to C:\\Users\\User/.pytorch/MNIST_data/MNIST\\raw\n",
      "Processing...\n",
      "Done!\n"
     ]
    }
   ],
   "source": [
    "### Run this cell\n",
    "\n",
    "from torchvision import datasets, transforms\n",
    "\n",
    "# Define a transform to normalize the data\n",
    "transform = transforms.Compose([transforms.ToTensor(),\n",
    "                              transforms.Normalize((0.5,), (0.5,)),\n",
    "                              ])\n",
    "\n",
    "# Download and load the training data\n",
    "trainset = datasets.MNIST('~/.pytorch/MNIST_data/', download=True, train=True, transform=transform)\n",
    "trainloader = torch.utils.data.DataLoader(trainset, batch_size=64, shuffle=True)"
   ]
  },
  {
   "cell_type": "markdown",
   "metadata": {},
   "source": [
    "We have the training data loaded into `trainloader` and we make that an iterator with `iter(trainloader)`. Later, we'll use this to loop through the dataset for training, like\n",
    "\n",
    "```python\n",
    "for image, label in trainloader:\n",
    "    ## do things with images and labels\n",
    "```\n",
    "\n",
    "You'll notice I created the `trainloader` with a batch size of 64, and `shuffle=True`. The batch size is the number of images we get in one iteration from the data loader and pass through our network, often called a *batch*. And `shuffle=True` tells it to shuffle the dataset every time we start going through the data loader again. But here I'm just grabbing the first batch so we can check out the data. We can see below that `images` is just a tensor with size `(64, 1, 28, 28)`. So, 64 images per batch, 1 color channel, and 28x28 images."
   ]
  },
  {
   "cell_type": "code",
   "execution_count": 3,
   "metadata": {},
   "outputs": [
    {
     "name": "stdout",
     "output_type": "stream",
     "text": [
      "<class 'torch.Tensor'>\n",
      "torch.Size([64, 1, 28, 28])\n",
      "torch.Size([64])\n"
     ]
    }
   ],
   "source": [
    "dataiter = iter(trainloader)\n",
    "images, labels = dataiter.next()\n",
    "print(type(images))\n",
    "print(images.shape)\n",
    "print(labels.shape)"
   ]
  },
  {
   "cell_type": "markdown",
   "metadata": {},
   "source": [
    "This is what one of the images looks like. "
   ]
  },
  {
   "cell_type": "code",
   "execution_count": 4,
   "metadata": {},
   "outputs": [
    {
     "data": {
      "image/png": "[encoded data removed]",
      "text/plain": [
       "<Figure size 432x288 with 1 Axes>"
      ]
     },
     "metadata": {
      "image/png": {
       "height": 248,
       "width": 251
      },
      "needs_background": "light"
     },
     "output_type": "display_data"
    }
   ],
   "source": [
    "plt.imshow(images[1].numpy().squeeze(), cmap='Greys_r');"
   ]
  },
  {
   "cell_type": "markdown",
   "metadata": {},
   "source": [
    "First, let's try to build a simple network for this dataset using weight matrices and matrix multiplications. Then, we'll see how to do it using PyTorch's `nn` module which provides a much more convenient and powerful method for defining network architectures.\n",
    "\n",
    "The networks you've seen so far are called *fully-connected* or *dense* networks. Each unit in one layer is connected to each unit in the next layer. In fully-connected networks, the input to each layer must be a one-dimensional vector (which can be stacked into a 2D tensor as a batch of multiple examples). However, our images are 28x28 2D tensors, so we need to convert them into 1D vectors. Thinking about sizes, we need to convert the batch of images with shape `(64, 1, 28, 28)` to a have a shape of `(64, 784)`, 784 is 28 times 28. This is typically called *flattening*, we flattened the 2D images into 1D vectors.\n",
    "\n",
    "Previously you built a network with one output unit. Here we need 10 output units, one for each digit. We want our network to predict the digit shown in an image, so what we'll do is calculate probabilities that the image is of any one digit or class. This ends up being a discrete probability distribution over the classes (digits) that tells us the most likely class for the image. That means we need 10 output units for the 10 classes (digits). We'll see how to convert the network output into a probability distribution next.\n",
    "\n",
    "> **Exercise:** Flatten the batch of images `images`. Then build a multi-layer network with 784 input units, 256 hidden units, and 10 output units using random tensors for the weights and biases. For now, use a sigmoid activation for the hidden layer. Leave the output layer without an activation, we'll add one that gives us a probability distribution next."
   ]
  },
  {
   "cell_type": "markdown",
   "metadata": {},
   "source": [
    "**torch.randn**: Returns a tensor filled with random numbers from a normal distribution with mean 0 and variance 1 (also called the standard normal distribution)."
   ]
  },
  {
   "cell_type": "code",
   "execution_count": 13,
   "metadata": {},
   "outputs": [
    {
     "data": {
      "text/plain": [
       "tensor([[4.6843e-07, 9.4908e-11, 4.2440e-04, 2.5509e-05, 1.0000e+00, 1.0000e+00,\n",
       "         1.0000e+00, 3.0188e-02, 1.3388e-08, 9.9971e-01],\n",
       "        [3.6430e-08, 4.7564e-13, 9.5146e-01, 1.3247e-08, 8.8688e-01, 1.0000e+00,\n",
       "         1.0000e+00, 3.0992e-04, 7.7600e-03, 9.2096e-01],\n",
       "        [2.3585e-04, 8.1768e-12, 2.5690e-02, 2.0612e-05, 9.9203e-01, 1.0000e+00,\n",
       "         9.9979e-01, 1.7893e-03, 5.0143e-08, 9.8394e-01],\n",
       "        [2.8195e-06, 1.0935e-10, 9.9911e-01, 3.1330e-07, 1.0000e+00, 1.0000e+00,\n",
       "         9.9996e-01, 1.3316e-03, 2.3113e-03, 9.9985e-01],\n",
       "        [1.9422e-08, 2.8288e-13, 3.1380e-05, 3.8486e-06, 9.9979e-01, 1.0000e+00,\n",
       "         1.0000e+00, 2.7566e-05, 8.0196e-09, 1.4531e-04],\n",
       "        [2.8522e-04, 2.8960e-11, 8.5906e-01, 1.0829e-08, 9.9999e-01, 1.0000e+00,\n",
       "         9.9999e-01, 2.7593e-01, 4.2971e-05, 6.3159e-02],\n",
       "        [2.8723e-04, 4.7366e-16, 1.1362e-02, 5.8891e-05, 1.0000e+00, 1.0000e+00,\n",
       "         9.9994e-01, 4.8505e-01, 5.9925e-05, 9.2390e-01],\n",
       "        [7.7652e-03, 6.8790e-15, 7.4647e-01, 3.2463e-09, 9.9705e-01, 1.0000e+00,\n",
       "         9.9853e-01, 1.4549e-03, 3.7434e-02, 2.1847e-01],\n",
       "        [1.7601e-02, 2.8316e-08, 9.9883e-01, 1.1991e-05, 1.0000e+00, 1.0000e+00,\n",
       "         1.0000e+00, 5.5307e-07, 1.1739e-07, 9.9899e-01],\n",
       "        [1.8801e-07, 2.4706e-12, 8.0293e-01, 2.0090e-07, 9.9933e-01, 9.9706e-01,\n",
       "         9.9998e-01, 7.1042e-05, 3.5393e-05, 9.9996e-01],\n",
       "        [5.9648e-04, 1.1039e-12, 9.9731e-01, 6.2142e-07, 9.9058e-01, 9.9960e-01,\n",
       "         9.9641e-01, 1.3401e-08, 9.1088e-06, 3.1450e-01],\n",
       "        [3.4946e-05, 1.6012e-14, 8.8442e-01, 1.6583e-06, 9.6137e-01, 1.0000e+00,\n",
       "         1.0000e+00, 5.0538e-04, 4.3459e-08, 9.7101e-01],\n",
       "        [1.6115e-05, 6.6707e-12, 9.1124e-01, 5.7294e-10, 9.9961e-01, 1.0000e+00,\n",
       "         1.0000e+00, 1.2803e-06, 2.1819e-09, 1.8190e-01],\n",
       "        [6.3643e-05, 1.7393e-12, 4.7011e-01, 3.6623e-07, 8.8104e-01, 9.9973e-01,\n",
       "         9.0929e-01, 7.6741e-07, 8.5848e-06, 9.8727e-01],\n",
       "        [6.6689e-03, 6.2959e-18, 3.8182e-01, 3.6174e-03, 1.0000e+00, 1.0000e+00,\n",
       "         1.0000e+00, 5.9203e-03, 1.9908e-03, 4.7458e-02],\n",
       "        [3.3783e-02, 2.0135e-08, 9.9879e-01, 1.6414e-06, 9.9995e-01, 1.0000e+00,\n",
       "         9.8006e-01, 2.3679e-07, 6.1837e-05, 9.1369e-03],\n",
       "        [2.1999e-01, 5.5451e-09, 9.9993e-01, 8.7376e-04, 9.6587e-01, 1.0000e+00,\n",
       "         1.0000e+00, 1.2701e-03, 5.6848e-04, 1.3438e-02],\n",
       "        [2.4143e-02, 2.2557e-09, 9.9964e-01, 5.1069e-07, 9.9998e-01, 1.0000e+00,\n",
       "         1.0000e+00, 2.1662e-03, 4.6471e-02, 7.4213e-01],\n",
       "        [8.5793e-03, 6.0630e-14, 1.9946e-01, 4.5061e-06, 9.9998e-01, 1.0000e+00,\n",
       "         1.0000e+00, 6.2930e-04, 1.5312e-01, 9.7633e-01],\n",
       "        [8.9841e-01, 8.8862e-12, 3.2508e-02, 8.5938e-10, 9.6854e-01, 9.9999e-01,\n",
       "         1.0000e+00, 1.8164e-01, 5.9169e-06, 6.1406e-02],\n",
       "        [7.0231e-02, 7.5793e-14, 8.7925e-02, 9.5771e-07, 9.9998e-01, 1.0000e+00,\n",
       "         9.9999e-01, 2.1612e-06, 4.3112e-09, 9.5283e-01],\n",
       "        [7.5093e-08, 1.5453e-13, 1.5664e-02, 7.4274e-11, 9.9999e-01, 1.0000e+00,\n",
       "         9.9998e-01, 9.3932e-07, 1.4020e-02, 9.9151e-01],\n",
       "        [2.7645e-01, 5.2371e-13, 9.9921e-01, 5.5337e-08, 9.9484e-01, 1.0000e+00,\n",
       "         9.9948e-01, 1.4110e-05, 1.9476e-03, 1.1073e-02],\n",
       "        [3.1080e-05, 5.2461e-13, 9.9648e-01, 1.1009e-05, 1.0000e+00, 9.9997e-01,\n",
       "         1.0000e+00, 1.4186e-07, 1.4679e-09, 9.9321e-01],\n",
       "        [1.3202e-01, 8.1501e-11, 9.5054e-01, 8.6756e-09, 7.7657e-01, 1.0000e+00,\n",
       "         1.0000e+00, 1.4024e-07, 5.3242e-07, 1.1694e-05],\n",
       "        [9.8130e-01, 1.1151e-10, 8.5829e-01, 5.7548e-09, 9.8001e-02, 1.0000e+00,\n",
       "         9.9999e-01, 3.4266e-05, 1.7464e-03, 1.7779e-01],\n",
       "        [3.3753e-04, 4.3696e-13, 8.6930e-01, 6.7788e-08, 9.9930e-01, 1.0000e+00,\n",
       "         1.0000e+00, 1.8262e-01, 1.5967e-05, 5.8191e-01],\n",
       "        [8.6942e-04, 4.2676e-13, 8.2319e-01, 1.0160e-07, 9.9999e-01, 1.0000e+00,\n",
       "         1.0000e+00, 1.8487e-05, 4.0918e-05, 1.3031e-01],\n",
       "        [4.1156e-06, 1.9337e-12, 6.9897e-01, 3.9454e-08, 6.7789e-01, 1.0000e+00,\n",
       "         2.2314e-02, 1.6429e-07, 4.8639e-05, 9.6964e-01],\n",
       "        [1.9001e-06, 1.5875e-09, 1.0000e+00, 1.2248e-04, 9.9998e-01, 9.9998e-01,\n",
       "         9.9999e-01, 5.1154e-04, 9.9442e-01, 3.7638e-01],\n",
       "        [3.4837e-04, 1.6766e-13, 9.4536e-01, 4.5857e-04, 9.9999e-01, 9.9999e-01,\n",
       "         9.9999e-01, 2.2470e-05, 7.3840e-01, 3.1609e-04],\n",
       "        [6.6949e-02, 9.6700e-11, 9.9999e-01, 2.9983e-08, 4.9375e-01, 9.9991e-01,\n",
       "         9.9990e-01, 1.1601e-02, 9.2549e-01, 3.6388e-03],\n",
       "        [1.8590e-07, 1.6854e-11, 1.0000e+00, 1.5046e-08, 9.8223e-01, 9.9996e-01,\n",
       "         9.9664e-01, 4.7614e-07, 1.0186e-07, 9.9947e-01],\n",
       "        [1.6317e-12, 2.7515e-09, 6.6916e-03, 1.2289e-09, 9.9978e-01, 1.0000e+00,\n",
       "         9.9999e-01, 5.7540e-01, 1.3680e-07, 2.7955e-01],\n",
       "        [3.5707e-07, 5.3307e-15, 6.3316e-04, 1.1526e-09, 6.9523e-01, 1.0000e+00,\n",
       "         9.8908e-01, 1.4777e-10, 2.1756e-04, 9.9200e-01],\n",
       "        [1.8884e-01, 7.7548e-12, 9.9984e-01, 5.5046e-06, 1.0000e+00, 1.0000e+00,\n",
       "         9.9648e-01, 1.1652e-02, 7.0128e-06, 8.9317e-01],\n",
       "        [7.8396e-01, 1.1330e-10, 4.5451e-02, 2.2777e-07, 1.0000e+00, 1.0000e+00,\n",
       "         9.9690e-01, 4.0685e-04, 1.2424e-05, 3.5726e-01],\n",
       "        [4.6733e-04, 3.0848e-15, 9.9997e-01, 1.4743e-04, 9.9995e-01, 1.0000e+00,\n",
       "         9.9996e-01, 1.8679e-04, 4.3781e-03, 9.9735e-01],\n",
       "        [5.3371e-06, 1.2020e-13, 1.1501e-01, 3.2487e-05, 1.0000e+00, 1.0000e+00,\n",
       "         9.9989e-01, 4.5316e-05, 5.0116e-06, 2.9870e-05],\n",
       "        [3.1730e-03, 2.4659e-10, 9.9794e-01, 4.9864e-05, 9.9998e-01, 1.0000e+00,\n",
       "         9.9998e-01, 2.1343e-07, 3.5860e-05, 6.6536e-02],\n",
       "        [1.8547e-01, 4.9437e-09, 9.9971e-01, 1.0548e-05, 9.9109e-01, 1.0000e+00,\n",
       "         9.8481e-01, 7.0567e-03, 2.9701e-04, 9.9997e-01],\n",
       "        [4.8912e-02, 7.3860e-11, 9.2922e-01, 1.0775e-04, 9.9986e-01, 1.0000e+00,\n",
       "         1.0000e+00, 4.1174e-02, 1.8371e-09, 8.8796e-01],\n",
       "        [3.6100e-04, 1.8007e-15, 6.3713e-01, 2.6987e-05, 1.0000e+00, 1.0000e+00,\n",
       "         1.0000e+00, 2.5233e-03, 1.2249e-02, 5.7213e-05],\n",
       "        [3.1908e-01, 3.1588e-12, 9.9999e-01, 7.3549e-08, 9.7104e-01, 9.9842e-01,\n",
       "         1.0000e+00, 1.3848e-02, 8.2970e-05, 1.0775e-01],\n",
       "        [1.1004e-05, 1.3070e-09, 1.4489e-03, 3.1867e-06, 1.0000e+00, 9.9999e-01,\n",
       "         1.0000e+00, 8.2300e-03, 5.4525e-06, 9.7862e-01],\n",
       "        [2.6037e-05, 2.8604e-13, 9.9952e-01, 7.2078e-09, 9.9997e-01, 1.0000e+00,\n",
       "         1.0000e+00, 4.5144e-04, 1.0877e-03, 9.9934e-01],\n",
       "        [4.2783e-04, 1.7912e-12, 1.7404e-02, 2.9564e-07, 9.8590e-01, 1.0000e+00,\n",
       "         9.8657e-01, 3.7506e-01, 7.6552e-07, 9.5698e-01],\n",
       "        [3.4220e-02, 5.5167e-11, 3.8566e-02, 1.0167e-01, 9.9970e-01, 9.9992e-01,\n",
       "         1.0000e+00, 5.8888e-03, 8.0861e-03, 1.6178e-03],\n",
       "        [7.1485e-02, 2.0965e-11, 9.9822e-01, 8.7213e-05, 7.6868e-01, 1.0000e+00,\n",
       "         9.9994e-01, 1.5338e-04, 2.8944e-06, 2.1966e-01],\n",
       "        [1.5150e-04, 1.0374e-11, 8.5985e-01, 2.2155e-08, 9.8435e-01, 1.0000e+00,\n",
       "         1.0000e+00, 3.9291e-06, 4.6210e-08, 5.3988e-01],\n",
       "        [7.0345e-06, 3.4017e-13, 2.4233e-02, 9.9985e-09, 9.9996e-01, 9.9997e-01,\n",
       "         9.9459e-01, 2.3898e-06, 2.1544e-04, 9.7693e-01],\n",
       "        [4.7811e-02, 2.3240e-15, 9.9527e-01, 3.0625e-07, 9.7460e-01, 9.9998e-01,\n",
       "         9.9993e-01, 5.8958e-01, 3.1383e-01, 9.8107e-01],\n",
       "        [3.5723e-03, 8.3472e-14, 7.7388e-01, 6.9923e-05, 9.9985e-01, 1.0000e+00,\n",
       "         9.8705e-01, 4.2241e-06, 1.1244e-06, 9.9035e-01],\n",
       "        [6.4430e-06, 3.1212e-11, 7.9268e-01, 1.8369e-02, 9.6359e-01, 9.9999e-01,\n",
       "         9.9999e-01, 5.7207e-02, 4.2177e-09, 9.7068e-01],\n",
       "        [8.2716e-04, 2.0799e-13, 1.4654e-01, 1.9020e-07, 9.9738e-01, 1.0000e+00,\n",
       "         1.0000e+00, 1.3688e-04, 3.9979e-04, 7.6740e-01],\n",
       "        [1.9460e-01, 9.6447e-15, 9.9803e-01, 5.1320e-06, 7.8072e-01, 9.9987e-01,\n",
       "         9.9945e-01, 1.3665e-01, 7.7827e-04, 9.9541e-01],\n",
       "        [7.8112e-01, 2.6574e-09, 9.9912e-01, 9.7397e-08, 9.9335e-01, 9.9889e-01,\n",
       "         1.2582e-03, 3.4839e-05, 8.4407e-09, 2.1347e-06],\n",
       "        [4.0822e-04, 8.4079e-09, 9.9032e-01, 2.1251e-05, 9.5326e-01, 9.9758e-01,\n",
       "         9.8524e-01, 1.5726e-03, 4.7853e-04, 4.7021e-07],\n",
       "        [6.6369e-01, 5.3518e-12, 9.8889e-01, 5.6050e-08, 9.7948e-01, 1.0000e+00,\n",
       "         1.0000e+00, 1.3598e-07, 1.4124e-06, 3.6109e-01],\n",
       "        [1.0038e-05, 3.2907e-16, 9.8014e-01, 1.3565e-05, 1.0000e+00, 1.0000e+00,\n",
       "         9.9704e-01, 3.1123e-03, 1.3123e-03, 8.1186e-01],\n",
       "        [3.4948e-08, 1.6612e-13, 1.3194e-01, 1.0186e-07, 1.0000e+00, 1.0000e+00,\n",
       "         9.9994e-01, 1.1832e-05, 4.3630e-06, 1.2307e-01],\n",
       "        [2.0921e-04, 5.0147e-13, 6.2276e-01, 3.7156e-07, 9.9882e-01, 9.9977e-01,\n",
       "         1.0000e+00, 1.0547e-08, 1.2576e-06, 8.0694e-01],\n",
       "        [1.3784e-05, 4.3417e-10, 9.9806e-01, 1.1591e-05, 9.9994e-01, 1.0000e+00,\n",
       "         9.9925e-01, 1.6097e-02, 1.8371e-05, 9.4879e-01],\n",
       "        [9.5551e-03, 2.3144e-09, 1.1639e-02, 5.0410e-09, 9.9999e-01, 1.0000e+00,\n",
       "         9.9996e-01, 2.3696e-04, 4.4998e-03, 9.9042e-01]])"
      ]
     },
     "execution_count": 13,
     "metadata": {},
     "output_type": "execute_result"
    }
   ],
   "source": [
    "def activation(x):\n",
    "    return 1/(1 + torch.exp(-x))\n",
    "\n",
    "inputs = images.view(images.shape[0], -1)\n",
    "\n",
    "w1 = torch.randn(784, 256)\n",
    "b1 = torch.randn(256)\n",
    "\n",
    "w2 = torch.randn(256, 10)\n",
    "b2 = torch.randn(10)\n",
    "\n",
    "h = activation(torch.mm(inputs, w1) + b1)\n",
    "out = activation(torch.mm(h, w2) + b2)\n",
    "\n",
    "out\n",
    "# output of your network, should have shape (64,10)"
   ]
  },
  {
   "cell_type": "markdown",
   "metadata": {},
   "source": [
    "Now we have 10 outputs for our network. We want to pass in an image to our network and get out a probability distribution over the classes that tells us the likely class(es) the image belongs to. Something that looks like this:\n",
    "<img src='assets/image_distribution.png' width=500px>\n",
    "\n",
    "Here we see that the probability for each class is roughly the same. This is representing an untrained network, it hasn't seen any data yet so it just returns a uniform distribution with equal probabilities for each class.\n",
    "\n",
    "To calculate this probability distribution, we often use the [**softmax** function](https://en.wikipedia.org/wiki/Softmax_function). Mathematically this looks like\n",
    "\n",
    "$$\n",
    "\\Large \\sigma(x_i) = \\cfrac{e^{x_i}}{\\sum_k^K{e^{x_k}}}\n",
    "$$\n",
    "\n",
    "What this does is squish each input $x_i$ between 0 and 1 and normalizes the values to give you a proper probability distribution where the probabilites sum up to one.\n",
    "\n",
    "> **Exercise:** Implement a function `softmax` that performs the softmax calculation and returns probability distributions for each example in the batch. Note that you'll need to pay attention to the shapes when doing this. If you have a tensor `a` with shape `(64, 10)` and a tensor `b` with shape `(64,)`, doing `a/b` will give you an error because PyTorch will try to do the division across the columns (called broadcasting) but you'll get a size mismatch. The way to think about this is for each of the 64 examples, you only want to divide by one value, the sum in the denominator. So you need `b` to have a shape of `(64, 1)`. This way PyTorch will divide the 10 values in each row of `a` by the one value in each row of `b`. Pay attention to how you take the sum as well. You'll need to define the `dim` keyword in `torch.sum`. Setting `dim=0` takes the sum across the rows while `dim=1` takes the sum across the columns."
   ]
  },
  {
   "cell_type": "code",
   "execution_count": 14,
   "metadata": {},
   "outputs": [
    {
     "name": "stdout",
     "output_type": "stream",
     "text": [
      "torch.Size([64, 10])\n",
      "tensor([1.0000, 1.0000, 1.0000, 1.0000, 1.0000, 1.0000, 1.0000, 1.0000, 1.0000,\n",
      "        1.0000, 1.0000, 1.0000, 1.0000, 1.0000, 1.0000, 1.0000, 1.0000, 1.0000,\n",
      "        1.0000, 1.0000, 1.0000, 1.0000, 1.0000, 1.0000, 1.0000, 1.0000, 1.0000,\n",
      "        1.0000, 1.0000, 1.0000, 1.0000, 1.0000, 1.0000, 1.0000, 1.0000, 1.0000,\n",
      "        1.0000, 1.0000, 1.0000, 1.0000, 1.0000, 1.0000, 1.0000, 1.0000, 1.0000,\n",
      "        1.0000, 1.0000, 1.0000, 1.0000, 1.0000, 1.0000, 1.0000, 1.0000, 1.0000,\n",
      "        1.0000, 1.0000, 1.0000, 1.0000, 1.0000, 1.0000, 1.0000, 1.0000, 1.0000,\n",
      "        1.0000])\n"
     ]
    }
   ],
   "source": [
    "def softmax(x):\n",
    "    return torch.exp(x)/torch.sum(torch.exp(x), dim = 1).view(-1, 1)\n",
    "\n",
    "# Here, out should be the output of the network in the previous excercise with shape (64,10)\n",
    "probabilities = softmax(out)\n",
    "\n",
    "# Does it have the right shape? Should be (64, 10)\n",
    "print(probabilities.shape)\n",
    "# Does it sum to 1?\n",
    "print(probabilities.sum(dim=1))"
   ]
  },
  {
   "cell_type": "markdown",
   "metadata": {},
   "source": [
    "## Building networks with PyTorch\n",
    "\n",
    "PyTorch provides a module `nn` that makes building networks much simpler. Here I'll show you how to build the same one as above with 784 inputs, 256 hidden units, 10 output units and a softmax output."
   ]
  },
  {
   "cell_type": "code",
   "execution_count": 15,
   "metadata": {},
   "outputs": [],
   "source": [
    "from torch import nn"
   ]
  },
  {
   "cell_type": "code",
   "execution_count": 16,
   "metadata": {},
   "outputs": [],
   "source": [
    "class Network(nn.Module):\n",
    "    def __init__(self):\n",
    "        super().__init__()\n",
    "        \n",
    "        # Inputs to hidden layer linear transformation\n",
    "        self.hidden = nn.Linear(784, 256)\n",
    "        # Output layer, 10 units - one for each digit\n",
    "        self.output = nn.Linear(256, 10)\n",
    "        \n",
    "        # Define sigmoid activation and softmax output \n",
    "        self.sigmoid = nn.Sigmoid()\n",
    "        self.softmax = nn.Softmax(dim=1)\n",
    "        \n",
    "    def forward(self, x):\n",
    "        # Pass the input tensor through each of our operations\n",
    "        x = self.hidden(x)\n",
    "        x = self.sigmoid(x)\n",
    "        x = self.output(x)\n",
    "        x = self.softmax(x)\n",
    "        \n",
    "        return x"
   ]
  },
  {
   "cell_type": "markdown",
   "metadata": {},
   "source": [
    "Let's go through this bit by bit.\n",
    "\n",
    "```python\n",
    "class Network(nn.Module):\n",
    "```\n",
    "\n",
    "Here we're inheriting from `nn.Module`. Combined with `super().__init__()` this creates a class that tracks the architecture and provides a lot of useful methods and attributes. It is mandatory to inherit from `nn.Module` when you're creating a class for your network. The name of the class itself can be anything.\n",
    "\n",
    "```python\n",
    "self.hidden = nn.Linear(784, 256)\n",
    "```\n",
    "\n",
    "This line creates a module for a linear transformation, $x\\mathbf{W} + b$, with 784 inputs and 256 outputs and assigns it to `self.hidden`. The module automatically creates the weight and bias tensors which we'll use in the `forward` method. You can access the weight and bias tensors once the network (`net`) is created with `net.hidden.weight` and `net.hidden.bias`.\n",
    "\n",
    "```python\n",
    "self.output = nn.Linear(256, 10)\n",
    "```\n",
    "\n",
    "Similarly, this creates another linear transformation with 256 inputs and 10 outputs.\n",
    "\n",
    "```python\n",
    "self.sigmoid = nn.Sigmoid()\n",
    "self.softmax = nn.Softmax(dim=1)\n",
    "```\n",
    "\n",
    "Here I defined operations for the sigmoid activation and softmax output. Setting `dim=1` in `nn.Softmax(dim=1)` calculates softmax across the columns.\n",
    "\n",
    "```python\n",
    "def forward(self, x):\n",
    "```\n",
    "\n",
    "PyTorch networks created with `nn.Module` must have a `forward` method defined. It takes in a tensor `x` and passes it through the operations you defined in the `__init__` method.\n",
    "\n",
    "```python\n",
    "x = self.hidden(x)\n",
    "x = self.sigmoid(x)\n",
    "x = self.output(x)\n",
    "x = self.softmax(x)\n",
    "```\n",
    "\n",
    "Here the input tensor `x` is passed through each operation a reassigned to `x`. We can see that the input tensor goes through the hidden layer, then a sigmoid function, then the output layer, and finally the softmax function. It doesn't matter what you name the variables here, as long as the inputs and outputs of the operations match the network architecture you want to build. The order in which you define things in the `__init__` method doesn't matter, but you'll need to sequence the operations correctly in the `forward` method.\n",
    "\n",
    "Now we can create a `Network` object."
   ]
  },
  {
   "cell_type": "code",
   "execution_count": 17,
   "metadata": {},
   "outputs": [
    {
     "data": {
      "text/plain": [
       "Network(\n",
       "  (hidden): Linear(in_features=784, out_features=256, bias=True)\n",
       "  (output): Linear(in_features=256, out_features=10, bias=True)\n",
       "  (sigmoid): Sigmoid()\n",
       "  (softmax): Softmax(dim=1)\n",
       ")"
      ]
     },
     "execution_count": 17,
     "metadata": {},
     "output_type": "execute_result"
    }
   ],
   "source": [
    "# Create the network and look at it's text representation\n",
    "model = Network()\n",
    "model"
   ]
  },
  {
   "cell_type": "markdown",
   "metadata": {},
   "source": [
    "You can define the network somewhat more concisely and clearly using the `torch.nn.functional` module. This is the most common way you'll see networks defined as many operations are simple element-wise functions. We normally import this module as `F`, `import torch.nn.functional as F`."
   ]
  },
  {
   "cell_type": "code",
   "execution_count": 18,
   "metadata": {},
   "outputs": [],
   "source": [
    "import torch.nn.functional as F\n",
    "\n",
    "class Network(nn.Module):\n",
    "    def __init__(self):\n",
    "        super().__init__()\n",
    "        # Inputs to hidden layer linear transformation\n",
    "        self.hidden = nn.Linear(784, 256)\n",
    "        # Output layer, 10 units - one for each digit\n",
    "        self.output = nn.Linear(256, 10)\n",
    "        \n",
    "    def forward(self, x):\n",
    "        # Hidden layer with sigmoid activation\n",
    "        x = F.sigmoid(self.hidden(x))\n",
    "        # Output layer with softmax activation\n",
    "        x = F.softmax(self.output(x), dim=1)\n",
    "        \n",
    "        return x"
   ]
  },
  {
   "cell_type": "markdown",
   "metadata": {},
   "source": [
    "### Activation functions\n",
    "\n",
    "So far we've only been looking at the softmax activation, but in general any function can be used as an activation function. The only requirement is that for a network to approximate a non-linear function, the activation functions must be non-linear. Here are a few more examples of common activation functions: Tanh (hyperbolic tangent), and ReLU (rectified linear unit).\n",
    "\n",
    "<img src=\"assets/activation.png\" width=700px>\n",
    "\n",
    "In practice, the ReLU function is used almost exclusively as the activation function for hidden layers."
   ]
  },
  {
   "cell_type": "markdown",
   "metadata": {},
   "source": [
    "### Your Turn to Build a Network\n",
    "\n",
    "<img src=\"assets/mlp_mnist.png\" width=600px>\n",
    "\n",
    "> **Exercise:** Create a network with 784 input units, a hidden layer with 128 units and a ReLU activation, then a hidden layer with 64 units and a ReLU activation, and finally an output layer with a softmax activation as shown above. You can use a ReLU activation with the `nn.ReLU` module or `F.relu` function."
   ]
  },
  {
   "cell_type": "code",
   "execution_count": 26,
   "metadata": {
    "scrolled": true
   },
   "outputs": [
    {
     "data": {
      "text/plain": [
       "Network(\n",
       "  (fc1): Linear(in_features=784, out_features=128, bias=True)\n",
       "  (fc2): Linear(in_features=128, out_features=64, bias=True)\n",
       "  (output): Linear(in_features=64, out_features=10, bias=True)\n",
       ")"
      ]
     },
     "execution_count": 26,
     "metadata": {},
     "output_type": "execute_result"
    }
   ],
   "source": [
    "import torch.nn.functional as F\n",
    "\n",
    "class Network(nn.Module):\n",
    "    def __init__(self):\n",
    "        super().__init__()\n",
    "        # Inputs to hidden layer linear transformation\n",
    "        self.fc1 = nn.Linear(784, 128)\n",
    "        self.fc2 = nn.Linear(128, 64)\n",
    "        # Output layer, 10 units - one for each digit\n",
    "        self.output = nn.Linear(64, 10)\n",
    "        \n",
    "    def forward(self, x):\n",
    "        # Hidden layer with sigmoid activation\n",
    "        x = F.relu(self.fc1(x))\n",
    "        x = F.relu(self.fc2(x))\n",
    "        # Output layer with softmax activation\n",
    "        x = F.softmax(self.output(x), dim=1)\n",
    "        \n",
    "        return x\n",
    "model = Network()\n",
    "model"
   ]
  },
  {
   "cell_type": "markdown",
   "metadata": {},
   "source": [
    "### Initializing weights and biases\n",
    "\n",
    "The weights and such are automatically initialized for you, but it's possible to customize how they are initialized. The weights and biases are tensors attached to the layer you defined, you can get them with `model.fc1.weight` for instance."
   ]
  },
  {
   "cell_type": "code",
   "execution_count": 27,
   "metadata": {},
   "outputs": [
    {
     "name": "stdout",
     "output_type": "stream",
     "text": [
      "Parameter containing:\n",
      "tensor([[-0.0339,  0.0309,  0.0143,  ...,  0.0275,  0.0162,  0.0263],\n",
      "        [-0.0143,  0.0120,  0.0119,  ..., -0.0174,  0.0092, -0.0357],\n",
      "        [ 0.0260, -0.0239,  0.0230,  ..., -0.0206,  0.0074,  0.0255],\n",
      "        ...,\n",
      "        [-0.0040, -0.0328, -0.0256,  ...,  0.0105, -0.0025, -0.0351],\n",
      "        [-0.0204, -0.0224,  0.0302,  ...,  0.0185, -0.0266, -0.0156],\n",
      "        [ 0.0182,  0.0289,  0.0193,  ...,  0.0038, -0.0064,  0.0025]],\n",
      "       requires_grad=True)\n",
      "Parameter containing:\n",
      "tensor([ 0.0325, -0.0008,  0.0136, -0.0328, -0.0076, -0.0174,  0.0298,  0.0273,\n",
      "         0.0313, -0.0230, -0.0032, -0.0076, -0.0287,  0.0012,  0.0199,  0.0099,\n",
      "        -0.0241, -0.0189, -0.0112,  0.0316, -0.0107, -0.0302,  0.0173, -0.0091,\n",
      "        -0.0006,  0.0261,  0.0163, -0.0336,  0.0193,  0.0128,  0.0148, -0.0233,\n",
      "         0.0338, -0.0175, -0.0082, -0.0342, -0.0255,  0.0159,  0.0300,  0.0293,\n",
      "         0.0307,  0.0219,  0.0273, -0.0086,  0.0272,  0.0016,  0.0306,  0.0211,\n",
      "        -0.0181, -0.0085, -0.0342, -0.0343,  0.0156,  0.0294, -0.0343,  0.0243,\n",
      "         0.0236, -0.0298,  0.0330,  0.0155,  0.0204, -0.0117,  0.0160,  0.0026,\n",
      "         0.0185,  0.0309, -0.0333, -0.0280,  0.0088,  0.0063,  0.0232, -0.0309,\n",
      "         0.0145, -0.0257,  0.0179, -0.0133, -0.0301,  0.0348, -0.0321, -0.0245,\n",
      "        -0.0267,  0.0238,  0.0063, -0.0107,  0.0129,  0.0063, -0.0055, -0.0204,\n",
      "        -0.0171,  0.0115,  0.0122,  0.0052, -0.0086, -0.0185,  0.0195,  0.0009,\n",
      "         0.0017, -0.0249, -0.0236, -0.0043, -0.0341,  0.0241,  0.0176, -0.0230,\n",
      "        -0.0089,  0.0129, -0.0181,  0.0073, -0.0133, -0.0006, -0.0149,  0.0088,\n",
      "        -0.0081,  0.0288,  0.0037,  0.0235, -0.0015,  0.0225,  0.0355,  0.0299,\n",
      "        -0.0298, -0.0250, -0.0280, -0.0287, -0.0297,  0.0318,  0.0042, -0.0065],\n",
      "       requires_grad=True)\n"
     ]
    }
   ],
   "source": [
    "print(model.fc1.weight)\n",
    "print(model.fc1.bias)"
   ]
  },
  {
   "cell_type": "markdown",
   "metadata": {},
   "source": [
    "For custom initialization, we want to modify these tensors in place. These are actually autograd *Variables*, so we need to get back the actual tensors with `model.fc1.weight.data`. Once we have the tensors, we can fill them with zeros (for biases) or random normal values."
   ]
  },
  {
   "cell_type": "code",
   "execution_count": 28,
   "metadata": {},
   "outputs": [
    {
     "data": {
      "text/plain": [
       "tensor([0., 0., 0., 0., 0., 0., 0., 0., 0., 0., 0., 0., 0., 0., 0., 0., 0., 0., 0., 0., 0., 0., 0., 0.,\n",
       "        0., 0., 0., 0., 0., 0., 0., 0., 0., 0., 0., 0., 0., 0., 0., 0., 0., 0., 0., 0., 0., 0., 0., 0.,\n",
       "        0., 0., 0., 0., 0., 0., 0., 0., 0., 0., 0., 0., 0., 0., 0., 0., 0., 0., 0., 0., 0., 0., 0., 0.,\n",
       "        0., 0., 0., 0., 0., 0., 0., 0., 0., 0., 0., 0., 0., 0., 0., 0., 0., 0., 0., 0., 0., 0., 0., 0.,\n",
       "        0., 0., 0., 0., 0., 0., 0., 0., 0., 0., 0., 0., 0., 0., 0., 0., 0., 0., 0., 0., 0., 0., 0., 0.,\n",
       "        0., 0., 0., 0., 0., 0., 0., 0.])"
      ]
     },
     "execution_count": 28,
     "metadata": {},
     "output_type": "execute_result"
    }
   ],
   "source": [
    "# Set biases to all zeros\n",
    "model.fc1.bias.data.fill_(0)"
   ]
  },
  {
   "cell_type": "code",
   "execution_count": 29,
   "metadata": {},
   "outputs": [
    {
     "data": {
      "text/plain": [
       "tensor([[ 0.0241,  0.0027,  0.0062,  ...,  0.0023,  0.0034,  0.0033],\n",
       "        [ 0.0044,  0.0083,  0.0094,  ...,  0.0204,  0.0037, -0.0020],\n",
       "        [-0.0045, -0.0084, -0.0089,  ..., -0.0058,  0.0019,  0.0083],\n",
       "        ...,\n",
       "        [ 0.0111, -0.0052,  0.0033,  ...,  0.0161, -0.0040, -0.0041],\n",
       "        [-0.0129, -0.0004, -0.0056,  ...,  0.0016,  0.0035,  0.0039],\n",
       "        [-0.0092, -0.0062,  0.0066,  ..., -0.0052, -0.0014, -0.0008]])"
      ]
     },
     "execution_count": 29,
     "metadata": {},
     "output_type": "execute_result"
    }
   ],
   "source": [
    "# sample from random normal with standard dev = 0.01\n",
    "model.fc1.weight.data.normal_(std=0.01)"
   ]
  },
  {
   "cell_type": "markdown",
   "metadata": {},
   "source": [
    "### Forward pass\n",
    "\n",
    "Now that we have a network, let's see what happens when we pass in an image."
   ]
  },
  {
   "cell_type": "code",
   "execution_count": 33,
   "metadata": {},
   "outputs": [
    {
     "data": {
      "image/png": "[encoded data removed]",
      "text/plain": [
       "<Figure size 432x648 with 2 Axes>"
      ]
     },
     "metadata": {
      "image/png": {
       "height": 235,
       "width": 424
      },
      "needs_background": "light"
     },
     "output_type": "display_data"
    }
   ],
   "source": [
    "# Grab some data \n",
    "dataiter = iter(trainloader)\n",
    "images, labels = dataiter.next()\n",
    "\n",
    "# Resize images into a 1D vector, new shape is (batch size, color channels, image pixels) \n",
    "images.resize_(64, 1, 784)\n",
    "# or images.resize_(images.shape[0], 1, 784) to automatically get batch size\n",
    "\n",
    "# Forward pass through the network\n",
    "img_idx = 0\n",
    "ps = model.forward(images[img_idx,:])\n",
    "\n",
    "img = images[img_idx]\n",
    "helper.view_classify(img.view(1, 28, 28), ps)"
   ]
  },
  {
   "cell_type": "markdown",
   "metadata": {},
   "source": [
    "As you can see above, our network has basically no idea what this digit is. It's because we haven't trained it yet, all the weights are random!\n",
    "\n",
    "### Using `nn.Sequential`\n",
    "\n",
    "PyTorch provides a convenient way to build networks like this where a tensor is passed sequentially through operations, `nn.Sequential` ([documentation](https://pytorch.org/docs/master/nn.html#torch.nn.Sequential)). Using this to build the equivalent network:"
   ]
  },
  {
   "cell_type": "code",
   "execution_count": 34,
   "metadata": {},
   "outputs": [
    {
     "name": "stdout",
     "output_type": "stream",
     "text": [
      "Sequential(\n",
      "  (0): Linear(in_features=784, out_features=128, bias=True)\n",
      "  (1): ReLU()\n",
      "  (2): Linear(in_features=128, out_features=64, bias=True)\n",
      "  (3): ReLU()\n",
      "  (4): Linear(in_features=64, out_features=10, bias=True)\n",
      "  (5): Softmax(dim=1)\n",
      ")\n"
     ]
    },
    {
     "data": {
      "image/png": "[encoded data removed]",
      "text/plain": [
       "<Figure size 432x648 with 2 Axes>"
      ]
     },
     "metadata": {
      "image/png": {
       "height": 235,
       "width": 424
      },
      "needs_background": "light"
     },
     "output_type": "display_data"
    }
   ],
   "source": [
    "# Hyperparameters for our network\n",
    "input_size = 784\n",
    "hidden_sizes = [128, 64]\n",
    "output_size = 10\n",
    "\n",
    "# Build a feed-forward network\n",
    "model = nn.Sequential(nn.Linear(input_size, hidden_sizes[0]),\n",
    "                      nn.ReLU(),\n",
    "                      nn.Linear(hidden_sizes[0], hidden_sizes[1]),\n",
    "                      nn.ReLU(),\n",
    "                      nn.Linear(hidden_sizes[1], output_size),\n",
    "                      nn.Softmax(dim=1))\n",
    "print(model)\n",
    "\n",
    "# Forward pass through the network and display output\n",
    "images, labels = next(iter(trainloader))\n",
    "images.resize_(images.shape[0], 1, 784)\n",
    "ps = model.forward(images[0,:])\n",
    "helper.view_classify(images[0].view(1, 28, 28), ps)"
   ]
  },
  {
   "cell_type": "markdown",
   "metadata": {},
   "source": [
    "Here our model is the same as before: 784 input units, a hidden layer with 128 units, ReLU activation, 64 unit hidden layer, another ReLU, then the output layer with 10 units, and the softmax output.\n",
    "\n",
    "The operations are availble by passing in the appropriate index. For example, if you want to get first Linear operation and look at the weights, you'd use `model[0]`."
   ]
  },
  {
   "cell_type": "code",
   "execution_count": 35,
   "metadata": {},
   "outputs": [
    {
     "name": "stdout",
     "output_type": "stream",
     "text": [
      "Linear(in_features=784, out_features=128, bias=True)\n"
     ]
    },
    {
     "data": {
      "text/plain": [
       "Parameter containing:\n",
       "tensor([[ 0.0338, -0.0040, -0.0343,  ...,  0.0133, -0.0131,  0.0265],\n",
       "        [ 0.0298,  0.0041, -0.0339,  ..., -0.0178,  0.0116,  0.0345],\n",
       "        [-0.0008, -0.0206, -0.0014,  ..., -0.0078,  0.0350,  0.0156],\n",
       "        ...,\n",
       "        [-0.0184, -0.0351, -0.0119,  ...,  0.0100,  0.0352, -0.0309],\n",
       "        [ 0.0161, -0.0166, -0.0259,  ...,  0.0165, -0.0074, -0.0022],\n",
       "        [-0.0344, -0.0065, -0.0166,  ...,  0.0240,  0.0180,  0.0067]],\n",
       "       requires_grad=True)"
      ]
     },
     "execution_count": 35,
     "metadata": {},
     "output_type": "execute_result"
    }
   ],
   "source": [
    "print(model[0])\n",
    "model[0].weight"
   ]
  },
  {
   "cell_type": "markdown",
   "metadata": {},
   "source": [
    "You can also pass in an `OrderedDict` to name the individual layers and operations, instead of using incremental integers. Note that dictionary keys must be unique, so _each operation must have a different name_."
   ]
  },
  {
   "cell_type": "code",
   "execution_count": 36,
   "metadata": {},
   "outputs": [
    {
     "data": {
      "text/plain": [
       "Sequential(\n",
       "  (fc1): Linear(in_features=784, out_features=128, bias=True)\n",
       "  (relu1): ReLU()\n",
       "  (fc2): Linear(in_features=128, out_features=64, bias=True)\n",
       "  (relu2): ReLU()\n",
       "  (output): Linear(in_features=64, out_features=10, bias=True)\n",
       "  (softmax): Softmax(dim=1)\n",
       ")"
      ]
     },
     "execution_count": 36,
     "metadata": {},
     "output_type": "execute_result"
    }
   ],
   "source": [
    "from collections import OrderedDict\n",
    "model = nn.Sequential(OrderedDict([\n",
    "                      ('fc1', nn.Linear(input_size, hidden_sizes[0])),\n",
    "                      ('relu1', nn.ReLU()),\n",
    "                      ('fc2', nn.Linear(hidden_sizes[0], hidden_sizes[1])),\n",
    "                      ('relu2', nn.ReLU()),\n",
    "                      ('output', nn.Linear(hidden_sizes[1], output_size)),\n",
    "                      ('softmax', nn.Softmax(dim=1))]))\n",
    "model"
   ]
  },
  {
   "cell_type": "markdown",
   "metadata": {},
   "source": [
    "Now you can access layers either by integer or the name"
   ]
  },
  {
   "cell_type": "code",
   "execution_count": 37,
   "metadata": {},
   "outputs": [
    {
     "name": "stdout",
     "output_type": "stream",
     "text": [
      "Linear(in_features=784, out_features=128, bias=True)\n",
      "Linear(in_features=784, out_features=128, bias=True)\n"
     ]
    }
   ],
   "source": [
    "print(model[0])\n",
    "print(model.fc1)"
   ]
  },
  {
   "cell_type": "markdown",
   "metadata": {},
   "source": [
    "In the next notebook, we'll see how we can train a neural network to accuractly predict the numbers appearing in the MNIST images."
   ]
  }
 ],
 "metadata": {
  "kernelspec": {
   "display_name": "Python 3",
   "language": "python",
   "name": "python3"
  },
  "language_info": {
   "codemirror_mode": {
    "name": "ipython",
    "version": 3
   },
   "file_extension": ".py",
   "mimetype": "text/x-python",
   "name": "python",
   "nbconvert_exporter": "python",
   "pygments_lexer": "ipython3",
   "version": "3.7.4"
  }
 },
 "nbformat": 4,
 "nbformat_minor": 2
}
